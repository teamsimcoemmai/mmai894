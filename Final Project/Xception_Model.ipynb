{
  "nbformat": 4,
  "nbformat_minor": 0,
  "metadata": {
    "accelerator": "GPU",
    "colab": {
      "name": "Xception_Model.ipynb",
      "provenance": [],
      "collapsed_sections": [],
      "include_colab_link": true
    },
    "kernelspec": {
      "display_name": "Python 3",
      "language": "python",
      "name": "python3"
    },
    "language_info": {
      "codemirror_mode": {
        "name": "ipython",
        "version": 3
      },
      "file_extension": ".py",
      "mimetype": "text/x-python",
      "name": "python",
      "nbconvert_exporter": "python",
      "pygments_lexer": "ipython3",
      "version": "3.7.6"
    }
  },
  "cells": [
    {
      "cell_type": "markdown",
      "metadata": {
        "id": "view-in-github",
        "colab_type": "text"
      },
      "source": [
        "<a href=\"https://colab.research.google.com/github/teamsimcoemmai/mmai894/blob/main/Final%20Project/Xception_Model.ipynb\" target=\"_parent\"><img src=\"https://colab.research.google.com/assets/colab-badge.svg\" alt=\"Open In Colab\"/></a>"
      ]
    },
    {
      "cell_type": "code",
      "metadata": {
        "colab": {
          "base_uri": "https://localhost:8080/"
        },
        "id": "bKG12rqViINT",
        "outputId": "e6993e03-abc8-4eb2-c1ab-760b2beaf61f"
      },
      "source": [
        "from google.colab import drive\n",
        "drive.mount('/content/gdrive')"
      ],
      "execution_count": null,
      "outputs": [
        {
          "output_type": "stream",
          "text": [
            "Mounted at /content/gdrive\n"
          ],
          "name": "stdout"
        }
      ]
    },
    {
      "cell_type": "code",
      "metadata": {
        "id": "CvefhXtkXUGm"
      },
      "source": [
        "import pandas as pd\n",
        "import numpy as np\n",
        "from numpy.random import seed\n",
        "seed(42)\n",
        "import tensorflow as tf\n",
        "tf.random.set_seed(42)\n",
        "import matplotlib.pyplot as plt\n",
        "# import os\n",
        "\n",
        "from tensorflow import keras\n",
        "from keras import Input\n",
        "from keras.models import Sequential, load_model, Model\n",
        "from keras.layers import Conv2D, MaxPool2D, Dropout, Flatten, Dense, GlobalAveragePooling2D, BatchNormalization, AvgPool2D\n",
        "from keras.preprocessing import image,image_dataset_from_directory\n",
        "from keras.preprocessing.image import ImageDataGenerator\n",
        "from keras.callbacks import EarlyStopping,ModelCheckpoint, ReduceLROnPlateau\n",
        "from tensorflow.keras import regularizers\n",
        "from tensorflow.keras.applications import Xception"
      ],
      "execution_count": null,
      "outputs": []
    },
    {
      "cell_type": "code",
      "metadata": {
        "colab": {
          "base_uri": "https://localhost:8080/"
        },
        "id": "arjgZLvTjokY",
        "outputId": "ff05b1a8-4efa-4f27-a45a-5bc28f2a60f0"
      },
      "source": [
        "# Image augmentation\n",
        "train_datagen = ImageDataGenerator(rescale=1./255,\n",
        "                                   horizontal_flip=True,\n",
        "                                   vertical_flip=True,\n",
        "                                   rotation_range=5,\n",
        "                                   zoom_range=1.1,    \n",
        "                                   brightness_range=[0,0.2],\n",
        "                                   )\n",
        "\n",
        "# Get train, val and tets data\n",
        "train_data = train_datagen.flow_from_directory('/content/gdrive/MyDrive/Simcoe/894/Car dataset/new/train_set',\n",
        "                                                target_size=(224,224),\n",
        "                                                batch_size=32,\n",
        "                                                seed=42,\n",
        "                                                class_mode='categorical')\n",
        "\n",
        "val_datagen = ImageDataGenerator(rescale=1./255)\n",
        "val_data = val_datagen.flow_from_directory('/content/gdrive/MyDrive/Simcoe/894/Car dataset/new/val_set',\n",
        "                                            target_size=(224,224),\n",
        "                                            batch_size=32,\n",
        "                                            seed=42,\n",
        "                                            class_mode='categorical')\n",
        "\n",
        "test_datagen = ImageDataGenerator(rescale=1./255)\n",
        "test_data = val_datagen.flow_from_directory('/content/gdrive/MyDrive/Simcoe/894/Car dataset/new/test_set',\n",
        "                                            target_size=(224,224),\n",
        "                                            batch_size=32,\n",
        "                                            seed=42,\n",
        "                                            class_mode='categorical',\n",
        "                                            shuffle=False)"
      ],
      "execution_count": null,
      "outputs": [
        {
          "output_type": "stream",
          "text": [
            "Found 11330 images belonging to 196 classes.\n",
            "Found 2428 images belonging to 196 classes.\n",
            "Found 2427 images belonging to 196 classes.\n"
          ],
          "name": "stdout"
        }
      ]
    },
    {
      "cell_type": "code",
      "metadata": {
        "id": "qs9cHFBjXUGp"
      },
      "source": [
        "#load the Xception model\n",
        "img_size=224\n",
        "#load pre trained Xception model\n",
        "base_model= Xception(weights='imagenet',include_top= False,input_shape=(img_size,img_size,3))\n",
        "base_model.trainable=False"
      ],
      "execution_count": null,
      "outputs": []
    },
    {
      "cell_type": "code",
      "metadata": {
        "id": "AA-BEvk28KEg",
        "colab": {
          "base_uri": "https://localhost:8080/"
        },
        "outputId": "e53c98bb-8343-4950-d470-77d707ef2e1f"
      },
      "source": [
        "#Build the composite model\n",
        "inputs = keras.layers.Input(shape=(img_size,img_size,3))\n",
        "body = base_model(inputs)\n",
        "\n",
        "body = AvgPool2D(3)(body)\n",
        "body = Flatten()(body)\n",
        "\n",
        "body = Dropout(0.4)(body)\n",
        "my_outputs = Dense(196,activation='softmax')(body)\n",
        "model = Model(inputs=inputs, outputs=my_outputs)\n",
        "model.summary()"
      ],
      "execution_count": null,
      "outputs": [
        {
          "output_type": "stream",
          "text": [
            "Model: \"model_8\"\n",
            "_________________________________________________________________\n",
            "Layer (type)                 Output Shape              Param #   \n",
            "=================================================================\n",
            "input_19 (InputLayer)        [(None, 224, 224, 3)]     0         \n",
            "_________________________________________________________________\n",
            "xception (Functional)        (None, 7, 7, 2048)        20861480  \n",
            "_________________________________________________________________\n",
            "average_pooling2d_8 (Average (None, 2, 2, 2048)        0         \n",
            "_________________________________________________________________\n",
            "flatten_8 (Flatten)          (None, 8192)              0         \n",
            "_________________________________________________________________\n",
            "dropout_8 (Dropout)          (None, 8192)              0         \n",
            "_________________________________________________________________\n",
            "dense_8 (Dense)              (None, 196)               1605828   \n",
            "=================================================================\n",
            "Total params: 22,467,308\n",
            "Trainable params: 1,605,828\n",
            "Non-trainable params: 20,861,480\n",
            "_________________________________________________________________\n"
          ],
          "name": "stdout"
        }
      ]
    },
    {
      "cell_type": "code",
      "metadata": {
        "id": "304bmcaDHjSR",
        "colab": {
          "base_uri": "https://localhost:8080/"
        },
        "outputId": "a6142745-4555-4608-9271-844b80e41bea"
      },
      "source": [
        "#Compile the model\n",
        "model.compile(optimizer=keras.optimizers.Adam(learning_rate=0.2), loss='categorical_crossentropy', metrics=[\"accuracy\"])\n",
        "#Train the model\n",
        "history = model.fit(train_data,\n",
        "                    epochs=50,\n",
        "                    validation_data=val_data,\n",
        "                    verbose=1)"
      ],
      "execution_count": null,
      "outputs": [
        {
          "output_type": "stream",
          "text": [
            "Epoch 1/50\n",
            "355/355 [==============================] - 5085s 14s/step - loss: 339.8721 - accuracy: 0.0106 - val_loss: 632.3360 - val_accuracy: 0.0445\n",
            "Epoch 2/50\n",
            "355/355 [==============================] - 188s 530ms/step - loss: 425.9016 - accuracy: 0.0231 - val_loss: 701.3081 - val_accuracy: 0.0498\n",
            "Epoch 3/50\n",
            "355/355 [==============================] - 186s 524ms/step - loss: 466.3828 - accuracy: 0.0249 - val_loss: 860.0482 - val_accuracy: 0.0494\n",
            "Epoch 4/50\n",
            "355/355 [==============================] - 187s 527ms/step - loss: 498.9809 - accuracy: 0.0266 - val_loss: 711.3824 - val_accuracy: 0.0717\n",
            "Epoch 5/50\n",
            "355/355 [==============================] - 188s 529ms/step - loss: 510.5458 - accuracy: 0.0337 - val_loss: 748.4204 - val_accuracy: 0.0750\n",
            "Epoch 6/50\n",
            "355/355 [==============================] - 187s 526ms/step - loss: 537.2614 - accuracy: 0.0384 - val_loss: 824.6183 - val_accuracy: 0.0766\n",
            "Epoch 7/50\n",
            "355/355 [==============================] - 182s 513ms/step - loss: 558.4552 - accuracy: 0.0366 - val_loss: 743.8663 - val_accuracy: 0.0914\n",
            "Epoch 8/50\n",
            "355/355 [==============================] - 184s 517ms/step - loss: 574.9710 - accuracy: 0.0376 - val_loss: 831.3629 - val_accuracy: 0.0774\n",
            "Epoch 9/50\n",
            "355/355 [==============================] - 186s 525ms/step - loss: 582.9865 - accuracy: 0.0410 - val_loss: 819.8667 - val_accuracy: 0.0865\n",
            "Epoch 10/50\n",
            "355/355 [==============================] - 185s 520ms/step - loss: 591.5734 - accuracy: 0.0457 - val_loss: 814.1821 - val_accuracy: 0.0968\n",
            "Epoch 11/50\n",
            "355/355 [==============================] - 183s 515ms/step - loss: 597.6218 - accuracy: 0.0474 - val_loss: 838.2642 - val_accuracy: 0.0947\n",
            "Epoch 12/50\n",
            "355/355 [==============================] - 186s 524ms/step - loss: 618.1836 - accuracy: 0.0452 - val_loss: 843.8058 - val_accuracy: 0.0997\n",
            "Epoch 13/50\n",
            "355/355 [==============================] - 183s 515ms/step - loss: 619.7544 - accuracy: 0.0436 - val_loss: 831.5413 - val_accuracy: 0.1067\n",
            "Epoch 14/50\n",
            "355/355 [==============================] - 182s 512ms/step - loss: 618.9993 - accuracy: 0.0484 - val_loss: 878.5635 - val_accuracy: 0.1067\n",
            "Epoch 15/50\n",
            "355/355 [==============================] - 181s 511ms/step - loss: 631.3328 - accuracy: 0.0537 - val_loss: 925.4147 - val_accuracy: 0.0980\n",
            "Epoch 16/50\n",
            "355/355 [==============================] - 183s 514ms/step - loss: 648.8460 - accuracy: 0.0491 - val_loss: 794.5396 - val_accuracy: 0.1075\n",
            "Epoch 17/50\n",
            "355/355 [==============================] - 185s 520ms/step - loss: 644.3145 - accuracy: 0.0541 - val_loss: 835.1628 - val_accuracy: 0.1215\n",
            "Epoch 18/50\n",
            "355/355 [==============================] - 184s 518ms/step - loss: 658.1230 - accuracy: 0.0601 - val_loss: 894.8099 - val_accuracy: 0.1001\n",
            "Epoch 19/50\n",
            "355/355 [==============================] - 182s 513ms/step - loss: 631.0432 - accuracy: 0.0606 - val_loss: 805.0075 - val_accuracy: 0.1240\n",
            "Epoch 20/50\n",
            "355/355 [==============================] - 188s 530ms/step - loss: 654.7985 - accuracy: 0.0534 - val_loss: 871.7518 - val_accuracy: 0.1211\n",
            "Epoch 21/50\n",
            "355/355 [==============================] - 188s 530ms/step - loss: 671.3355 - accuracy: 0.0557 - val_loss: 911.1391 - val_accuracy: 0.1182\n",
            "Epoch 22/50\n",
            "355/355 [==============================] - 188s 528ms/step - loss: 673.9942 - accuracy: 0.0561 - val_loss: 870.6420 - val_accuracy: 0.1293\n",
            "Epoch 23/50\n",
            "355/355 [==============================] - 186s 523ms/step - loss: 673.7442 - accuracy: 0.0620 - val_loss: 967.9571 - val_accuracy: 0.1116\n",
            "Epoch 24/50\n",
            "355/355 [==============================] - 188s 530ms/step - loss: 683.8493 - accuracy: 0.0568 - val_loss: 886.0536 - val_accuracy: 0.1252\n",
            "Epoch 25/50\n",
            "355/355 [==============================] - 186s 523ms/step - loss: 672.4474 - accuracy: 0.0583 - val_loss: 980.8846 - val_accuracy: 0.1190\n",
            "Epoch 26/50\n",
            "355/355 [==============================] - 189s 532ms/step - loss: 697.5566 - accuracy: 0.0685 - val_loss: 867.4476 - val_accuracy: 0.1483\n",
            "Epoch 27/50\n",
            "355/355 [==============================] - 188s 529ms/step - loss: 682.1903 - accuracy: 0.0654 - val_loss: 981.3087 - val_accuracy: 0.1244\n",
            "Epoch 28/50\n",
            "355/355 [==============================] - 184s 520ms/step - loss: 699.0699 - accuracy: 0.0632 - val_loss: 948.3387 - val_accuracy: 0.1252\n",
            "Epoch 29/50\n",
            "355/355 [==============================] - 183s 516ms/step - loss: 712.8792 - accuracy: 0.0557 - val_loss: 981.8464 - val_accuracy: 0.1223\n",
            "Epoch 30/50\n",
            "355/355 [==============================] - 181s 511ms/step - loss: 704.1450 - accuracy: 0.0639 - val_loss: 885.2873 - val_accuracy: 0.1277\n",
            "Epoch 31/50\n",
            "355/355 [==============================] - 186s 524ms/step - loss: 709.8349 - accuracy: 0.0636 - val_loss: 940.7872 - val_accuracy: 0.1380\n",
            "Epoch 32/50\n",
            "355/355 [==============================] - 189s 534ms/step - loss: 705.8779 - accuracy: 0.0655 - val_loss: 952.5574 - val_accuracy: 0.1318\n",
            "Epoch 33/50\n",
            "355/355 [==============================] - 190s 535ms/step - loss: 715.8654 - accuracy: 0.0656 - val_loss: 970.3486 - val_accuracy: 0.1454\n",
            "Epoch 34/50\n",
            "355/355 [==============================] - 188s 529ms/step - loss: 727.8483 - accuracy: 0.0664 - val_loss: 1057.9390 - val_accuracy: 0.1231\n",
            "Epoch 35/50\n",
            "355/355 [==============================] - 188s 530ms/step - loss: 718.2286 - accuracy: 0.0641 - val_loss: 967.2049 - val_accuracy: 0.1166\n",
            "Epoch 36/50\n",
            "355/355 [==============================] - 188s 530ms/step - loss: 719.2259 - accuracy: 0.0639 - val_loss: 892.5796 - val_accuracy: 0.1314\n",
            "Epoch 37/50\n",
            "355/355 [==============================] - 189s 531ms/step - loss: 717.4883 - accuracy: 0.0704 - val_loss: 967.4307 - val_accuracy: 0.1306\n",
            "Epoch 38/50\n",
            "355/355 [==============================] - 190s 535ms/step - loss: 729.7433 - accuracy: 0.0646 - val_loss: 1005.6887 - val_accuracy: 0.1236\n",
            "Epoch 39/50\n",
            "355/355 [==============================] - 189s 532ms/step - loss: 719.6244 - accuracy: 0.0678 - val_loss: 890.2518 - val_accuracy: 0.1462\n",
            "Epoch 40/50\n",
            "355/355 [==============================] - 188s 529ms/step - loss: 737.0668 - accuracy: 0.0677 - val_loss: 974.2515 - val_accuracy: 0.1330\n",
            "Epoch 41/50\n",
            "355/355 [==============================] - 189s 533ms/step - loss: 736.5223 - accuracy: 0.0684 - val_loss: 935.4258 - val_accuracy: 0.1293\n",
            "Epoch 42/50\n",
            "355/355 [==============================] - 189s 533ms/step - loss: 730.3907 - accuracy: 0.0660 - val_loss: 933.8224 - val_accuracy: 0.1334\n",
            "Epoch 43/50\n",
            "355/355 [==============================] - 188s 529ms/step - loss: 732.8419 - accuracy: 0.0714 - val_loss: 958.0632 - val_accuracy: 0.1359\n",
            "Epoch 44/50\n",
            "355/355 [==============================] - 186s 525ms/step - loss: 728.1431 - accuracy: 0.0711 - val_loss: 997.9962 - val_accuracy: 0.1248\n",
            "Epoch 45/50\n",
            "355/355 [==============================] - 187s 526ms/step - loss: 728.6813 - accuracy: 0.0707 - val_loss: 962.9412 - val_accuracy: 0.1363\n",
            "Epoch 46/50\n",
            "355/355 [==============================] - 187s 528ms/step - loss: 749.9225 - accuracy: 0.0725 - val_loss: 993.1718 - val_accuracy: 0.1376\n",
            "Epoch 47/50\n",
            "355/355 [==============================] - 187s 526ms/step - loss: 753.8284 - accuracy: 0.0751 - val_loss: 952.0585 - val_accuracy: 0.1466\n",
            "Epoch 48/50\n",
            "355/355 [==============================] - 186s 525ms/step - loss: 748.7186 - accuracy: 0.0748 - val_loss: 993.7050 - val_accuracy: 0.1351\n",
            "Epoch 49/50\n",
            "355/355 [==============================] - 188s 531ms/step - loss: 747.4636 - accuracy: 0.0756 - val_loss: 962.6987 - val_accuracy: 0.1495\n",
            "Epoch 50/50\n",
            "355/355 [==============================] - 190s 534ms/step - loss: 754.8512 - accuracy: 0.0680 - val_loss: 997.2259 - val_accuracy: 0.1429\n"
          ],
          "name": "stdout"
        }
      ]
    },
    {
      "cell_type": "code",
      "metadata": {
        "id": "Xh9BGmaBUH7U"
      },
      "source": [
        "model.save('/content/gdrive/MyDrive/Simcoe/894/saved_models/Xception.hdf5')"
      ],
      "execution_count": null,
      "outputs": []
    },
    {
      "cell_type": "code",
      "metadata": {
        "colab": {
          "base_uri": "https://localhost:8080/",
          "height": 298
        },
        "id": "V74NJ2Y1DBUD",
        "outputId": "5c145444-8b95-4be3-c6ff-7bd356791028"
      },
      "source": [
        "plt.plot(history.history['accuracy'],label='accuracy')\n",
        "plt.plot(history.history['val_accuracy'],label='val_accuracy')\n",
        "plt.legend()\n",
        "plt.title('Xception Accuracy Graph')"
      ],
      "execution_count": null,
      "outputs": [
        {
          "output_type": "execute_result",
          "data": {
            "text/plain": [
              "Text(0.5, 1.0, 'Xception Accuracy Graph')"
            ]
          },
          "metadata": {
            "tags": []
          },
          "execution_count": 99
        },
        {
          "output_type": "display_data",
          "data": {
            "image/png": "[encoded data removed]",
            "text/plain": [
              "<Figure size 432x288 with 1 Axes>"
            ]
          },
          "metadata": {
            "tags": [],
            "needs_background": "light"
          }
        }
      ]
    },
    {
      "cell_type": "code",
      "metadata": {
        "colab": {
          "base_uri": "https://localhost:8080/",
          "height": 298
        },
        "id": "lpNgKBQCDLCV",
        "outputId": "7a976386-94ec-4456-d127-9befbdac7451"
      },
      "source": [
        "plt.plot(history.history['loss'],label='loss')\n",
        "plt.plot(history.history['val_loss'],label='val_loss')\n",
        "plt.legend()\n",
        "plt.title('Xception Loss Graph')"
      ],
      "execution_count": null,
      "outputs": [
        {
          "output_type": "execute_result",
          "data": {
            "text/plain": [
              "Text(0.5, 1.0, 'Xception Loss Graph')"
            ]
          },
          "metadata": {
            "tags": []
          },
          "execution_count": 100
        },
        {
          "output_type": "display_data",
          "data": {
            "image/png": "[encoded data removed]",
            "text/plain": [
              "<Figure size 432x288 with 1 Axes>"
            ]
          },
          "metadata": {
            "tags": [],
            "needs_background": "light"
          }
        }
      ]
    },
    {
      "cell_type": "code",
      "metadata": {
        "id": "1kTb9Mf6mPl5"
      },
      "source": [
        "# Make prediction\n",
        "y_pred = model.predict(test_data)\n",
        "y_pred = np.argmax(y_pred, axis=-1)  "
      ],
      "execution_count": null,
      "outputs": []
    },
    {
      "cell_type": "code",
      "metadata": {
        "colab": {
          "base_uri": "https://localhost:8080/"
        },
        "id": "pXKI5z6ImAwV",
        "outputId": "9fe85b03-0504-405e-f51f-f1b94bcc0723"
      },
      "source": [
        "df_test_new = pd.read_csv('/content/gdrive/MyDrive/Simcoe/894/Car dataset/df_test_new.csv')\n",
        "feature_list = ['actual_class','predicted_class']\n",
        "valid = pd.DataFrame(0, index=df_test_new.index, columns=feature_list)\n",
        "valid['actual_class'] = df_test_new['class']\n",
        "valid['predicted_class'] = y_pred+1\n",
        "\n",
        "valid['diff'] = np.where(valid['actual_class'] == valid['predicted_class'],1,0)\n",
        "accuracy = valid['diff'].sum()/valid.shape[0]*100\n",
        "accuracy"
      ],
      "execution_count": null,
      "outputs": [
        {
          "output_type": "execute_result",
          "data": {
            "text/plain": [
              "3.955500618046971"
            ]
          },
          "metadata": {
            "tags": []
          },
          "execution_count": 40
        }
      ]
    },
    {
      "cell_type": "markdown",
      "metadata": {
        "id": "742eijiMmStE"
      },
      "source": [
        "## Tune Xception"
      ]
    },
    {
      "cell_type": "code",
      "metadata": {
        "id": "vAhePQJ0Io3O"
      },
      "source": [
        "# img_size=224\n",
        "base_model1 = Xception(weights='imagenet',include_top= False,input_shape=(img_size,img_size,3))\n",
        "base_model1.trainable = False"
      ],
      "execution_count": null,
      "outputs": []
    },
    {
      "cell_type": "code",
      "metadata": {
        "id": "DOMrqipNs5lm"
      },
      "source": [
        "inputs = keras.layers.Input(shape=(img_size,img_size,3))\n",
        "body = base_model1(inputs)\n",
        "body = keras.layers.AvgPool2D(3)(body)\n",
        "body = Flatten()(body)\n",
        "body = Dropout(0.4)(body)\n",
        "my_outputs = Dense(196,activation='softmax',kernel_regularizer='l2')(body)\n",
        "model1 = keras.Model(inputs=inputs, outputs=my_outputs)"
      ],
      "execution_count": null,
      "outputs": []
    },
    {
      "cell_type": "code",
      "metadata": {
        "id": "Ei_3H1etKPkY"
      },
      "source": [
        "earlystop = EarlyStopping(monitor = 'val_loss',\n",
        "                         min_delta = 1.0e-5,\n",
        "                         patience = 15,\n",
        "                         verbose =2,\n",
        "                         restore_best_weights = True)\n",
        "\n",
        "checkpoint = ModelCheckpoint('./',\n",
        "                            save_weights_only=True,\n",
        "                            monitor='val_loss',\n",
        "                            mode='min',\n",
        "                            save_best_only=True,\n",
        "                            verbose = 2\n",
        "                            )\n",
        "\n",
        "reduce_lr=ReduceLROnPlateau(monitor='val_accuracy',\n",
        "                         factor=0.1,\n",
        "                         patience=5,\n",
        "                         verbose=2,\n",
        "                         mode='auto',\n",
        "                         min_delta=0.0001,\n",
        "                         cooldown=0,\n",
        "                         min_lr=0)\n",
        "\n",
        "callbacks = [earlystop,checkpoint,reduce_lr]"
      ],
      "execution_count": null,
      "outputs": []
    },
    {
      "cell_type": "code",
      "metadata": {
        "colab": {
          "base_uri": "https://localhost:8080/"
        },
        "id": "CM3q1IrNmgFL",
        "outputId": "6925b445-8b44-44ce-8258-bb513b8903ce"
      },
      "source": [
        "model1.compile(optimizer=keras.optimizers.Adam(learning_rate=0.5), loss='categorical_crossentropy', metrics=[\"accuracy\"])\n",
        "\n",
        "history1 = model1.fit(train_data,\n",
        "                      epochs=50,\n",
        "                      validation_data=val_data,\n",
        "                      verbose=1,\n",
        "                      callbacks=callbacks\n",
        "                      )\n",
        "\n",
        "model1.save('/content/gdrive/MyDrive/Simcoe/894/saved_models/Xception_lr0.5.hdf5')"
      ],
      "execution_count": null,
      "outputs": [
        {
          "output_type": "stream",
          "text": [
            "Epoch 1/50\n",
            "355/355 [==============================] - 178s 495ms/step - loss: 1129.5271 - accuracy: 0.0069 - val_loss: 1330.2438 - val_accuracy: 0.0086\n",
            "\n",
            "Epoch 00001: val_loss improved from inf to 1330.24377, saving model to ./\n",
            "Epoch 2/50\n",
            "355/355 [==============================] - 173s 487ms/step - loss: 1183.8328 - accuracy: 0.0067 - val_loss: 1115.2056 - val_accuracy: 0.0091\n",
            "\n",
            "Epoch 00002: val_loss improved from 1330.24377 to 1115.20557, saving model to ./\n",
            "Epoch 3/50\n",
            "355/355 [==============================] - 171s 483ms/step - loss: 1124.6822 - accuracy: 0.0077 - val_loss: 1528.7887 - val_accuracy: 0.0062\n",
            "\n",
            "Epoch 00003: val_loss did not improve from 1115.20557\n",
            "Epoch 4/50\n",
            "355/355 [==============================] - 172s 485ms/step - loss: 1186.0235 - accuracy: 0.0068 - val_loss: 1797.8214 - val_accuracy: 0.0070\n",
            "\n",
            "Epoch 00004: val_loss did not improve from 1115.20557\n",
            "Epoch 5/50\n",
            "355/355 [==============================] - 171s 481ms/step - loss: 1180.4017 - accuracy: 0.0072 - val_loss: 1367.1423 - val_accuracy: 0.0045\n",
            "\n",
            "Epoch 00005: val_loss did not improve from 1115.20557\n",
            "Epoch 6/50\n",
            "355/355 [==============================] - 170s 480ms/step - loss: 1152.1053 - accuracy: 0.0067 - val_loss: 1279.2255 - val_accuracy: 0.0054\n",
            "\n",
            "Epoch 00006: val_loss did not improve from 1115.20557\n",
            "Epoch 7/50\n",
            "355/355 [==============================] - 170s 480ms/step - loss: 1159.8802 - accuracy: 0.0055 - val_loss: 1292.9084 - val_accuracy: 0.0103\n",
            "\n",
            "Epoch 00007: val_loss did not improve from 1115.20557\n",
            "Epoch 8/50\n",
            "355/355 [==============================] - 171s 481ms/step - loss: 1156.9638 - accuracy: 0.0068 - val_loss: 1328.7700 - val_accuracy: 0.0054\n",
            "\n",
            "Epoch 00008: val_loss did not improve from 1115.20557\n",
            "Epoch 9/50\n",
            "355/355 [==============================] - 176s 495ms/step - loss: 1175.3873 - accuracy: 0.0062 - val_loss: 1413.3663 - val_accuracy: 0.0029\n",
            "\n",
            "Epoch 00009: val_loss did not improve from 1115.20557\n",
            "Epoch 10/50\n",
            "355/355 [==============================] - 178s 502ms/step - loss: 1179.8426 - accuracy: 0.0047 - val_loss: 1235.6333 - val_accuracy: 0.0082\n",
            "\n",
            "Epoch 00010: val_loss did not improve from 1115.20557\n",
            "Epoch 11/50\n",
            "355/355 [==============================] - 180s 508ms/step - loss: 1194.3693 - accuracy: 0.0055 - val_loss: 1439.1147 - val_accuracy: 0.0066\n",
            "\n",
            "Epoch 00011: val_loss did not improve from 1115.20557\n",
            "Epoch 12/50\n",
            "355/355 [==============================] - 181s 509ms/step - loss: 1152.4457 - accuracy: 0.0044 - val_loss: 1239.0668 - val_accuracy: 0.0107\n",
            "\n",
            "Epoch 00012: val_loss did not improve from 1115.20557\n",
            "Epoch 13/50\n",
            "355/355 [==============================] - 178s 501ms/step - loss: 1161.9544 - accuracy: 0.0057 - val_loss: 1420.8286 - val_accuracy: 0.0045\n",
            "\n",
            "Epoch 00013: val_loss did not improve from 1115.20557\n",
            "Epoch 14/50\n",
            "355/355 [==============================] - 177s 499ms/step - loss: 1189.8077 - accuracy: 0.0051 - val_loss: 1203.0881 - val_accuracy: 0.0070\n",
            "\n",
            "Epoch 00014: val_loss did not improve from 1115.20557\n",
            "Epoch 15/50\n",
            "355/355 [==============================] - 177s 498ms/step - loss: 1151.9258 - accuracy: 0.0063 - val_loss: 1360.1316 - val_accuracy: 0.0082\n",
            "\n",
            "Epoch 00015: val_loss did not improve from 1115.20557\n",
            "Epoch 16/50\n",
            "355/355 [==============================] - 179s 503ms/step - loss: 1169.1343 - accuracy: 0.0065 - val_loss: 1276.9707 - val_accuracy: 0.0144\n",
            "\n",
            "Epoch 00016: val_loss did not improve from 1115.20557\n",
            "Epoch 17/50\n",
            "355/355 [==============================] - 176s 497ms/step - loss: 1156.9037 - accuracy: 0.0072 - val_loss: 1342.6567 - val_accuracy: 0.0066\n",
            "Restoring model weights from the end of the best epoch.\n",
            "\n",
            "Epoch 00017: val_loss did not improve from 1115.20557\n",
            "Epoch 00017: early stopping\n"
          ],
          "name": "stdout"
        }
      ]
    },
    {
      "cell_type": "code",
      "metadata": {
        "colab": {
          "base_uri": "https://localhost:8080/",
          "height": 282
        },
        "id": "kjLzrZuCm-vY",
        "outputId": "92f44ce9-cc38-44c0-fe77-1351056fed69"
      },
      "source": [
        "plt.plot(history1.history['accuracy'],label='accuracy')\n",
        "plt.plot(history1.history['val_accuracy'],label='val_accuracy')"
      ],
      "execution_count": null,
      "outputs": [
        {
          "output_type": "execute_result",
          "data": {
            "text/plain": [
              "[<matplotlib.lines.Line2D at 0x7fb5a3b7c110>]"
            ]
          },
          "metadata": {
            "tags": []
          },
          "execution_count": 94
        },
        {
          "output_type": "display_data",
          "data": {
            "image/png": "[encoded data removed]",
            "text/plain": [
              "<Figure size 432x288 with 1 Axes>"
            ]
          },
          "metadata": {
            "tags": [],
            "needs_background": "light"
          }
        }
      ]
    },
    {
      "cell_type": "code",
      "metadata": {
        "colab": {
          "base_uri": "https://localhost:8080/",
          "height": 282
        },
        "id": "rQoZYhtxm-tb",
        "outputId": "7c9c4636-a3e9-4474-fe26-ae81a9820827"
      },
      "source": [
        "plt.plot(history1.history['loss'],label='loss')\n",
        "plt.plot(history1.history['val_loss'],label='val_loss')"
      ],
      "execution_count": null,
      "outputs": [
        {
          "output_type": "execute_result",
          "data": {
            "text/plain": [
              "[<matplotlib.lines.Line2D at 0x7fb5a3bc33d0>]"
            ]
          },
          "metadata": {
            "tags": []
          },
          "execution_count": 95
        },
        {
          "output_type": "display_data",
          "data": {
            "image/png": "[encoded data removed]",
            "text/plain": [
              "<Figure size 432x288 with 1 Axes>"
            ]
          },
          "metadata": {
            "tags": [],
            "needs_background": "light"
          }
        }
      ]
    },
    {
      "cell_type": "code",
      "metadata": {
        "id": "rmNEVGtgm-q7"
      },
      "source": [
        "y_pred1 = model1.predict(test_data)\n",
        "y_pred1 = np.argmax(y_pred1, axis=-1)  "
      ],
      "execution_count": null,
      "outputs": []
    },
    {
      "cell_type": "code",
      "metadata": {
        "colab": {
          "base_uri": "https://localhost:8080/"
        },
        "id": "MDHyZY-6nGXZ",
        "outputId": "2de1ac66-f2a3-493b-9b22-2f5a03ee4c43"
      },
      "source": [
        "df_test_new1 = pd.read_csv('/content/gdrive/MyDrive/Simcoe/894/Car dataset/df_test_new.csv')\n",
        "valid1 = pd.DataFrame(0, index=df_test_new1.index, columns=feature_list)\n",
        "valid1['actual_class'] = df_test_new1['class']\n",
        "valid1['predicted_class'] = y_pred1+1\n",
        "\n",
        "valid1['diff'] = np.where(valid1['actual_class'] == valid1['predicted_class'],1,0)\n",
        "accuracy1 = valid1['diff'].sum()/valid1.shape[0]*100\n",
        "accuracy1"
      ],
      "execution_count": null,
      "outputs": [
        {
          "output_type": "execute_result",
          "data": {
            "text/plain": [
              "0.9476720230737536"
            ]
          },
          "metadata": {
            "tags": []
          },
          "execution_count": 102
        }
      ]
    },
    {
      "cell_type": "code",
      "metadata": {
        "id": "V1V7qsmtDs2M"
      },
      "source": [
        ""
      ],
      "execution_count": null,
      "outputs": []
    }
  ]
}